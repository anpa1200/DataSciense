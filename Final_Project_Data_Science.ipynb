{
 "cells": [
  {
   "cell_type": "markdown",
   "id": "880727d2",
   "metadata": {},
   "source": [
    "# Final Project: Introduction to Data Science"
   ]
  },
  {
   "cell_type": "markdown",
   "id": "1f58f363",
   "metadata": {},
   "source": [
    "Welcome to this final project notebook. In this notebook, we will explore the foundational concepts and tools used in Data Science."
   ]
  },
  {
   "cell_type": "markdown",
   "id": "0a0f8f86",
   "metadata": {},
   "source": [
    "### Data Science Languages\n",
    "- Python\n",
    "- R\n",
    "- SQL\n",
    "- Julia\n",
    "- Scala"
   ]
  },
  {
   "cell_type": "markdown",
   "id": "2ab17b65",
   "metadata": {},
   "source": [
    "### Data Science Libraries\n",
    "- NumPy\n",
    "- Pandas\n",
    "- Matplotlib\n",
    "- Scikit-learn\n",
    "- TensorFlow"
   ]
  },
  {
   "cell_type": "markdown",
   "id": "1a00c6c2",
   "metadata": {},
   "source": [
    "### Data Science Tools\n",
    "| Tool Name     | Category            |\n",
    "|---------------|---------------------|\n",
    "| Jupyter       | Notebook/IDE        |\n",
    "| RStudio       | IDE for R           |\n",
    "| Apache Spark  | Big Data Processing |\n",
    "| TensorFlow    | Machine Learning    |\n",
    "| Tableau       | Data Visualization  |"
   ]
  },
  {
   "cell_type": "markdown",
   "id": "19a35e6f",
   "metadata": {},
   "source": [
    "### Examples of Arithmetic Expressions\n",
    "Below are some basic examples of arithmetic operations in Python."
   ]
  },
  {
   "cell_type": "code",
   "execution_count": null,
   "id": "13562266",
   "metadata": {},
   "outputs": [],
   "source": [
    "result = (3 * 4) + 5\n",
    "result"
   ]
  },
  {
   "cell_type": "code",
   "execution_count": null,
   "id": "0b14520c",
   "metadata": {},
   "outputs": [],
   "source": [
    "minutes = 200\n",
    "hours = minutes / 60\n",
    "hours"
   ]
  },
  {
   "cell_type": "markdown",
   "id": "1605c84d",
   "metadata": {},
   "source": [
    "### Objectives\n",
    "- Understand fundamental data science languages and libraries\n",
    "- Demonstrate the use of markdown and code cells\n",
    "- Learn how to share notebooks on GitHub\n",
    "- Apply basic arithmetic operations in code cells"
   ]
  },
  {
   "cell_type": "markdown",
   "id": "90e23dd7",
   "metadata": {},
   "source": [
    "**Author:** Andrey Pautov"
   ]
  }
 ],
 "metadata": {},
 "nbformat": 4,
 "nbformat_minor": 5
}
